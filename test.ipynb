{
 "cells": [
  {
   "cell_type": "code",
   "execution_count": 51,
   "metadata": {},
   "outputs": [],
   "source": [
    "import json\n",
    "import pandas as pd"
   ]
  },
  {
   "cell_type": "code",
   "execution_count": 52,
   "metadata": {},
   "outputs": [],
   "source": [
    "def load(i):\n",
    "    start = i*1000\n",
    "    path = \"data/mpd.slice.\" + str(start) + \"-\" + str(start+999) + \".json\"\n",
    "    data = json.load(open(path,'r'))\n",
    "    return pd.DataFrame.from_dict(data['playlists'], orient='columns')"
   ]
  },
  {
   "cell_type": "code",
   "execution_count": 53,
   "metadata": {},
   "outputs": [],
   "source": [
    "# get tracks from playlists \n",
    "\n",
    "def get_train():\n",
    "    songPlaylistArray = []\n",
    "    start = 0\n",
    "    while start != 1:\n",
    "         thisSlice = load(start)\n",
    "         songPlaylistArray.append(thisSlice)\n",
    "         start+= 1\n",
    "    return pd.concat(songPlaylistArray)"
   ]
  },
  {
   "cell_type": "code",
   "execution_count": 54,
   "metadata": {},
   "outputs": [],
   "source": [
    "train = get_train()\n",
    "#train"
   ]
  },
  {
   "cell_type": "code",
   "execution_count": 55,
   "metadata": {},
   "outputs": [],
   "source": [
    "#train.loc[train['pid'] == 844]"
   ]
  },
  {
   "cell_type": "code",
   "execution_count": 56,
   "metadata": {},
   "outputs": [],
   "source": [
    "# get table where each row represents a song within a playlist\n",
    "\n",
    "def get_train_playlist_songs():\n",
    "    exploded_train = train.explode('tracks')\n",
    "    exploded_train.reset_index(drop=True, inplace=True)\n",
    "    normalized_tracks = pd.json_normalize(exploded_train['tracks'])\n",
    "    return pd.concat([exploded_train.drop(columns='tracks'), normalized_tracks], axis=1)"
   ]
  },
  {
   "cell_type": "code",
   "execution_count": 57,
   "metadata": {},
   "outputs": [],
   "source": [
    "train_playlist_songs = get_train_playlist_songs()\n",
    "#train_playlist_songs"
   ]
  },
  {
   "cell_type": "code",
   "execution_count": 58,
   "metadata": {},
   "outputs": [],
   "source": [
    "#train_playlist_songs.columns.tolist()"
   ]
  },
  {
   "cell_type": "code",
   "execution_count": 59,
   "metadata": {},
   "outputs": [],
   "source": [
    "# Discovering of data\n",
    "#train_playlist_songs.isnull().sum()"
   ]
  },
  {
   "cell_type": "code",
   "execution_count": 60,
   "metadata": {},
   "outputs": [],
   "source": [
    "count_df = train_playlist_songs['track_uri'].value_counts().reset_index()\n",
    "count_df.columns = ['track_uri', 'count']\n",
    "\n",
    "#count_df\n"
   ]
  },
  {
   "cell_type": "code",
   "execution_count": 61,
   "metadata": {},
   "outputs": [],
   "source": [
    "first_500 = count_df[:500]['track_uri'].tolist()\n",
    "\n",
    "#first_500"
   ]
  },
  {
   "cell_type": "markdown",
   "metadata": {},
   "source": [
    "### Take some playlist as user's preferencies / TODO Temporary solution "
   ]
  },
  {
   "cell_type": "code",
   "execution_count": 62,
   "metadata": {},
   "outputs": [],
   "source": [
    "# Take un example for user's playlist\n",
    "def load2(i):\n",
    "    start = i*10000\n",
    "    path = \"data/mpd.slice.\" + str(start) + \"-\" + str(start+999) + \".json\"\n",
    "    data = json.load(open(path,'r'))\n",
    "    return pd.DataFrame.from_dict(data['playlists'], orient='columns')\n",
    "\n",
    "#user_PL = []\n",
    "#user_PL.append(load2(1))\n",
    "#df_user_PL = pd.concat(user_PL)\n",
    "#df_user_PL = df_user_PL.iloc[1]\n",
    "#df_user_PL"
   ]
  },
  {
   "cell_type": "markdown",
   "metadata": {},
   "source": [
    "#### Select all playlists according track_uri from user's playlist"
   ]
  },
  {
   "cell_type": "code",
   "execution_count": 77,
   "metadata": {},
   "outputs": [],
   "source": [
    "# URI's of user's prefered tracks as list\n",
    "\n",
    "def get_pref_tracksURI_list(df_user_PL):\n",
    "    pref_tracksURI = [el['track_uri'] for el in df_user_PL['tracks']]\n",
    "\n",
    "    # Remove doublons\n",
    "    pref_tracksURI_list = list(set(pref_tracksURI))\n",
    "    return pref_tracksURI_list"
   ]
  },
  {
   "cell_type": "code",
   "execution_count": 64,
   "metadata": {},
   "outputs": [],
   "source": [
    "#pref_tracksURI_list = get_pref_tracksURI_list()\n",
    "#print(\"nb of prefered tracks = \", len(pref_tracksURI_list))\n",
    "#pref_tracksURI_list"
   ]
  },
  {
   "cell_type": "markdown",
   "metadata": {},
   "source": [
    "# User-based recommendation (based on playlist)"
   ]
  },
  {
   "cell_type": "code",
   "execution_count": 65,
   "metadata": {},
   "outputs": [],
   "source": [
    "# Select playlists contained user's prefered tracks\n",
    "def get_most_relevant(pref_tracksURI_list):\n",
    "    pref_in_train = train_playlist_songs.loc[train_playlist_songs['track_uri'].isin(pref_tracksURI_list)]\n",
    "    pref_in_train\n",
    "\n",
    "    # Range them according to relevance\n",
    "    most_relevant = pref_in_train['pid'].value_counts().rename_axis('pid').reset_index(name='Frequency')\n",
    "    return most_relevant"
   ]
  },
  {
   "cell_type": "code",
   "execution_count": 66,
   "metadata": {},
   "outputs": [],
   "source": [
    "#most_relevant = get_most_relevant()\n",
    "#print(\"inique values:\\n\", most_relevant.nunique())\n",
    "#most_relevant"
   ]
  },
  {
   "cell_type": "code",
   "execution_count": 67,
   "metadata": {},
   "outputs": [],
   "source": [
    "# Range by most frequent songs\n",
    "def get_most_freq_songs():\n",
    "    most_freq_songs = pd.DataFrame(train_playlist_songs.groupby(['track_uri'])['pid'].count()).reset_index().rename(columns= {'pid':'song_freq'}).sort_values(by=['song_freq'], ascending=False)\n",
    "    return most_freq_songs"
   ]
  },
  {
   "cell_type": "code",
   "execution_count": 68,
   "metadata": {},
   "outputs": [],
   "source": [
    "#most_freq_songs = get_most_freq_songs()\n",
    "#most_freq_songs"
   ]
  },
  {
   "cell_type": "markdown",
   "metadata": {},
   "source": [
    "## User-based recommendation RESULT"
   ]
  },
  {
   "cell_type": "code",
   "execution_count": 90,
   "metadata": {},
   "outputs": [],
   "source": [
    "# Make list of playlists in range of relevance\n",
    "def get_recommendation(playlist):\n",
    "    pref_tracksURI_list = get_pref_tracksURI_list(playlist)\n",
    "    \n",
    "    # if initial playlist is empty, return 500 most frequent tracks\n",
    "    if len(pref_tracksURI_list) == 0:\n",
    "        return first_500\n",
    "    \n",
    "    most_relevant = get_most_relevant(pref_tracksURI_list)\n",
    "    most_freq_songs = get_most_freq_songs()\n",
    "\n",
    "    pids = most_relevant['pid'].tolist()\n",
    "\n",
    "    # Make list of songs in range of frequency\n",
    "    #uris = most_freq_songs['track_uri'].tolist()\n",
    "\n",
    "    # Exclude preferencies from proposition\n",
    "    sans_preferences = train_playlist_songs[train_playlist_songs.pid.isin(pids) & ~train_playlist_songs.track_uri.isin(pref_tracksURI_list)][['pid', 'track_uri']]\n",
    "\n",
    "    # Add playlist frequency info\n",
    "    new_one = sans_preferences.merge(most_relevant, left_on='pid', right_on='pid').rename(columns= {'Frequency':'playlist_freq'})\n",
    "\n",
    "    # Add track frequency info, sort by playlist_freq first then by song_freq\n",
    "    new_one_1 = new_one.merge(most_freq_songs, left_on='track_uri', right_on='track_uri').sort_values(by=['playlist_freq', 'song_freq'], ascending=False)\n",
    "\n",
    "    # Exclude doublons from proposition\n",
    "    sans_doublons = new_one_1[['track_uri', 'playlist_freq', 'song_freq']].drop_duplicates(['track_uri'])\n",
    "\n",
    "    # First 500 tracks\n",
    "    recommended = sans_doublons[:500]['track_uri'].tolist()\n",
    "    \n",
    "    if len(recommended) < 500:\n",
    "        songs_not_in_list = count_df[~count_df['track_uri'].isin(recommended)]['track_uri']\n",
    "        songs_to_add = songs_not_in_list.head(500 - len(recommended)).tolist()\n",
    "        recommended.extend(songs_to_add)\n",
    "            \n",
    "\n",
    "    return recommended"
   ]
  },
  {
   "cell_type": "code",
   "execution_count": 70,
   "metadata": {},
   "outputs": [],
   "source": [
    "#recommended = get_recommendation()\n",
    "#recommended"
   ]
  },
  {
   "cell_type": "markdown",
   "metadata": {},
   "source": [
    "# Item-based recommendation (based on tracks)"
   ]
  },
  {
   "cell_type": "code",
   "execution_count": 71,
   "metadata": {},
   "outputs": [],
   "source": [
    "# Load challenge set\n",
    "\n",
    "path = \"data_challenge/challenge_set.json\"\n",
    "data = json.load(open(path,'r'))\n",
    "data_challenge = pd.DataFrame.from_dict(data['playlists'], orient='columns')\n",
    "\n",
    "challenge_set = [data_challenge]\n",
    "df_challenge = pd.concat(challenge_set)"
   ]
  },
  {
   "cell_type": "code",
   "execution_count": 91,
   "metadata": {},
   "outputs": [
    {
     "name": "stdout",
     "output_type": "stream",
     "text": [
      "500\n"
     ]
    }
   ],
   "source": [
    "import os\n",
    "\n",
    "file_name = 'result.csv'\n",
    "file_number = 1\n",
    "\n",
    "while os.path.exists(f\"{file_name[:-4]}_{file_number}.csv\"):\n",
    "    file_number += 1\n",
    "\n",
    "new_file_name = f\"{file_name[:-4]}_{file_number}.csv\"\n",
    "\n",
    "\n",
    "with open(new_file_name, mode='a', newline='', encoding='utf-8') as file:\n",
    "\n",
    "    if file.tell() == 0:\n",
    "        file.write('team_info,Bragina_Graff,vdfrtrp@gmail.com\\n\\n')\n",
    "\n",
    "    for i in range(1004, 1005):\n",
    "        playlist = df_challenge.iloc[i]\n",
    "        print(len(recommended))\n",
    "        recommended = get_recommendation(playlist)\n",
    "        \n",
    "        pid = playlist['pid']\n",
    "        \n",
    "        recommended_str = ', '.join(recommended)\n",
    "        file.write(f\"{pid}, {recommended_str}\\n\\n\")\n",
    "\n",
    "        "
   ]
  }
 ],
 "metadata": {
  "kernelspec": {
   "display_name": "Python 3",
   "language": "python",
   "name": "python3"
  },
  "language_info": {
   "codemirror_mode": {
    "name": "ipython",
    "version": 3
   },
   "file_extension": ".py",
   "mimetype": "text/x-python",
   "name": "python",
   "nbconvert_exporter": "python",
   "pygments_lexer": "ipython3",
   "version": "3.8.10"
  }
 },
 "nbformat": 4,
 "nbformat_minor": 2
}
